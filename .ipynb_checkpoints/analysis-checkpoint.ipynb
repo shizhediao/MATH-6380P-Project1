{
 "cells": [
  {
   "cell_type": "code",
   "execution_count": 59,
   "metadata": {},
   "outputs": [
    {
     "name": "stdout",
     "output_type": "stream",
     "text": [
      "SHAPE:  (60000, 3969) (60000,)\n",
      "global_mean shape =  (3969,)\n"
     ]
    }
   ],
   "source": [
    "import numpy as np\n",
    "feature_dim = 3969\n",
    "test_data = np.load('./features/scattering_train.npz')\n",
    "features = test_data['arr_0']\n",
    "labels = test_data['arr_1']\n",
    "print(\"SHAPE: \", features.shape, labels.shape)\n",
    "mu_G = np.mean(features, 0)  #global mean\n",
    "# print(\"global_mean = \", mu_G)\n",
    "print(\"global_mean shape = \", mu_G.shape)  #global_mean shape =  (3969,)\n",
    "\n",
    "\n",
    "num_samples = features.shape[0]  #10000\n",
    "\n",
    "mu_c_dict = {}\n",
    "len_dict = {}\n",
    "for feature, label in zip(features, labels):\n",
    "    # print(feature, label)\n",
    "    if label in mu_c_dict:\n",
    "        mu_c_dict[label] += feature\n",
    "        len_dict[label] += 1\n",
    "    else:\n",
    "        mu_c_dict[label] = feature\n",
    "        len_dict[label] = 1\n",
    "# print(mu_c_dict[0])\n",
    "mu_c_array = []\n",
    "for i in range(10):\n",
    "    mu_c_dict[i] /= len_dict[i]  # average of samples\n",
    "    mu_c_array.append(mu_c_dict[i])\n",
    "# print(mu_c_dict[0])\n",
    "mu_c_nparray = np.array(mu_c_array)"
   ]
  },
  {
   "cell_type": "code",
   "execution_count": null,
   "metadata": {},
   "outputs": [],
   "source": []
  },
  {
   "cell_type": "code",
   "execution_count": null,
   "metadata": {},
   "outputs": [],
   "source": []
  },
  {
   "cell_type": "code",
   "execution_count": null,
   "metadata": {},
   "outputs": [
    {
     "name": "stdout",
     "output_type": "stream",
     "text": [
      "0\n",
      "10000\n",
      "20000\n",
      "30000\n",
      "40000\n"
     ]
    }
   ],
   "source": [
    "# right way for sigma_T\n",
    "sigma_T = np.zeros((feature_dim,feature_dim))\n",
    "for i in range(num_samples):\n",
    "    sigma_T += np.dot((features[i,:] - mu_G).reshape(-1,1), (features[i,:] - mu_G).reshape(-1,1).T)\n",
    "    if i %10000 ==0:\n",
    "        print(i)\n",
    "sigma_T /= num_samples\n",
    "print(\"sigma_T.shape = \", sigma_T.shape)\n",
    "# print('flag2: ', sigma_T[0])\n",
    "\n"
   ]
  },
  {
   "cell_type": "code",
   "execution_count": null,
   "metadata": {},
   "outputs": [],
   "source": []
  },
  {
   "cell_type": "code",
   "execution_count": 47,
   "metadata": {},
   "outputs": [
    {
     "name": "stdout",
     "output_type": "stream",
     "text": [
      "sigma_B2.shape =  (512, 512)\n"
     ]
    }
   ],
   "source": [
    "sigma_B = np.zeros((feature_dim, feature_dim))\n",
    "for i in range(10):\n",
    "    sigma_B += np.dot((mu_c_dict[i] - mu_G).reshape(-1,1), (mu_c_dict[i] - mu_G).reshape(-1,1).T)\n",
    "sigma_B /= num_samples\n",
    "print(\"sigma_B2.shape = \", sigma_B.shape)\n",
    "# print(\"sigma_B2 = \", sigma_B)"
   ]
  },
  {
   "cell_type": "code",
   "execution_count": 48,
   "metadata": {},
   "outputs": [
    {
     "name": "stdout",
     "output_type": "stream",
     "text": [
      "0\n",
      "10000\n",
      "20000\n",
      "30000\n",
      "40000\n",
      "50000\n",
      "sigma_W.shape =  (512, 512)\n"
     ]
    }
   ],
   "source": [
    "sigma_W = np.zeros((feature_dim, feature_dim))\n",
    "for i in range(num_samples):\n",
    "    # sigma_W += np.outer(features[i,:] - mu_c_dict[labels[i]], features[i,:] - mu_c_dict[labels[i]]) / num_samples\n",
    "    sigma_W = np.dot((features[i,:] - mu_c_dict[labels[i]]).reshape(-1,1), (features[i,:] - mu_c_dict[labels[i]]).reshape(-1,1).T)\n",
    "    if i %10000 ==0:\n",
    "        print(i)\n",
    "sigma_W /= num_samples\n",
    "print(\"sigma_W.shape = \", sigma_W.shape)\n",
    "# print(\"sigma_W = \", sigma_W)\n",
    "\n"
   ]
  },
  {
   "cell_type": "code",
   "execution_count": 49,
   "metadata": {},
   "outputs": [
    {
     "name": "stdout",
     "output_type": "stream",
     "text": [
      "NC1 =  -22536871.556892168\n",
      "NC1 =  -22536871.556892168\n"
     ]
    }
   ],
   "source": [
    "NC1 = np.trace(sigma_W @ np.linalg.inv(sigma_B)) / 10\n",
    "print(\"NC1 = \", NC1)\n",
    "NC1 = np.trace(np.dot(sigma_W, np.linalg.inv(sigma_B))) / 10\n",
    "print(\"NC1 = \", NC1)"
   ]
  },
  {
   "cell_type": "code",
   "execution_count": 57,
   "metadata": {
    "pycharm": {
     "name": "#%%\n"
    }
   },
   "outputs": [
    {
     "name": "stdout",
     "output_type": "stream",
     "text": [
      "CEC =  0.23064928\n",
      "EA =  [0.38347037 0.36937684 0.42119489 0.37925131 0.40202942 0.38292236\n",
      " 0.43639661 0.344262   0.42022067 0.37802431]\n",
      "CME =  0.28622155244061204\n"
     ]
    }
   ],
   "source": [
    "CEC = np.std(np.linalg.norm(mu_c_nparray - mu_G, axis=1)) / np.mean(np.linalg.norm(mu_c_nparray - mu_G, axis=1))\n",
    "print(\"CEC = \", CEC)\n",
    "cos = np.zeros((10, 10))\n",
    "for i in range(10):\n",
    "    for j in range(10):\n",
    "        cos[i, j] = np.dot(mu_c_nparray[i, :] - mu_G, mu_c_nparray[j, :] - mu_G) / np.linalg.norm(mu_c_nparray[i, :] - mu_G) / np.linalg.norm(mu_c_nparray[j, :] - mu_G)\n",
    "#print(\"cos = \", cos)\n",
    "EA = np.std(cos, axis=1)\n",
    "print(\"EA = \", EA)\n",
    "CME = np.mean(np.fabs(cos + 1 / (10 - 1)))\n",
    "print(\"CME = \", CME)\n"
   ]
  },
  {
   "cell_type": "code",
   "execution_count": null,
   "metadata": {},
   "outputs": [],
   "source": []
  }
 ],
 "metadata": {
  "kernelspec": {
   "display_name": "Python 3",
   "language": "python",
   "name": "python3"
  },
  "language_info": {
   "codemirror_mode": {
    "name": "ipython",
    "version": 3
   },
   "file_extension": ".py",
   "mimetype": "text/x-python",
   "name": "python",
   "nbconvert_exporter": "python",
   "pygments_lexer": "ipython3",
   "version": "3.8.3"
  }
 },
 "nbformat": 4,
 "nbformat_minor": 1
}
